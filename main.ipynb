{
 "cells": [
  {
   "cell_type": "code",
   "execution_count": 9,
   "id": "e276255b",
   "metadata": {},
   "outputs": [
    {
     "name": "stdout",
     "output_type": "stream",
     "text": [
      "Requirement already satisfied: requests in /Library/Frameworks/Python.framework/Versions/3.10/lib/python3.10/site-packages (2.32.5)\n",
      "Requirement already satisfied: python-dotenv in /Library/Frameworks/Python.framework/Versions/3.10/lib/python3.10/site-packages (1.1.1)\n",
      "Requirement already satisfied: certifi>=2017.4.17 in /Library/Frameworks/Python.framework/Versions/3.10/lib/python3.10/site-packages (from requests) (2024.2.2)\n",
      "Requirement already satisfied: charset_normalizer<4,>=2 in /Library/Frameworks/Python.framework/Versions/3.10/lib/python3.10/site-packages (from requests) (3.4.3)\n",
      "Requirement already satisfied: urllib3<3,>=1.21.1 in /Library/Frameworks/Python.framework/Versions/3.10/lib/python3.10/site-packages (from requests) (2.5.0)\n",
      "Requirement already satisfied: idna<4,>=2.5 in /Library/Frameworks/Python.framework/Versions/3.10/lib/python3.10/site-packages (from requests) (3.7)\n",
      "\u001b[33mWARNING: You are using pip version 21.2.3; however, version 25.2 is available.\n",
      "You should consider upgrading via the '/usr/local/bin/python3.10 -m pip install --upgrade pip' command.\u001b[0m\n",
      "Note: you may need to restart the kernel to use updated packages.\n"
     ]
    }
   ],
   "source": [
    "%pip install requests python-dotenv\n"
   ]
  },
  {
   "cell_type": "code",
   "execution_count": 10,
   "id": "34e46d10",
   "metadata": {},
   "outputs": [],
   "source": [
    "import requests\n",
    "import os\n",
    "from dotenv import load_dotenv"
   ]
  },
  {
   "cell_type": "code",
   "execution_count": 11,
   "id": "dfa9143e",
   "metadata": {},
   "outputs": [
    {
     "data": {
      "text/plain": [
       "True"
      ]
     },
     "execution_count": 11,
     "metadata": {},
     "output_type": "execute_result"
    }
   ],
   "source": [
    "load_dotenv()"
   ]
  },
  {
   "cell_type": "code",
   "execution_count": 12,
   "id": "e077f843",
   "metadata": {},
   "outputs": [
    {
     "name": "stdout",
     "output_type": "stream",
     "text": [
      "Fetching data for LIFT...\n",
      "✓ LIFT data retrieved\n",
      "Fetching data for AAPL...\n",
      "✓ AAPL data retrieved\n",
      "Fetching data for NVDA...\n",
      "✓ NVDA data retrieved\n"
     ]
    }
   ],
   "source": [
    "# Define the stocks we want to analyze\n",
    "stocks = ['LIFT', 'AAPL', 'NVDA']  # Lift, Apple, Nvidia\n",
    "stock_data = {}\n",
    "\n",
    "# Fetch data for each stock\n",
    "for symbol in stocks:\n",
    "    print(f\"Fetching data for {symbol}...\")\n",
    "    url = f'https://www.alphavantage.co/query?function=TIME_SERIES_INTRADAY&symbol={symbol}&interval=5min&apikey=' + os.getenv('ALPHA_VANTAGE_API_KEY')\n",
    "    r = requests.get(url)\n",
    "    data = r.json()\n",
    "    stock_data[symbol] = data\n",
    "    print(f\"✓ {symbol} data retrieved\")"
   ]
  },
  {
   "cell_type": "code",
   "execution_count": 13,
   "id": "21d47bc4",
   "metadata": {},
   "outputs": [
    {
     "name": "stdout",
     "output_type": "stream",
     "text": [
      "\n",
      "==================================================\n",
      "STOCK: LIFT\n",
      "==================================================\n",
      "Information: Intraday (5min) open, high, low, close prices and volume\n",
      "Symbol: LIFT\n",
      "Last Refreshed: 2025-09-29 20:00:00\n",
      "Interval: 5min\n",
      "\n",
      "Latest Price Data (2025-09-29 20:00:00):\n",
      "  Open: $31.1201\n",
      "  High: $31.1201\n",
      "  Low: $31.1201\n",
      "  Close: $31.1201\n",
      "  Volume: 100\n",
      "\n",
      "==================================================\n",
      "STOCK: AAPL\n",
      "==================================================\n",
      "Information: Intraday (5min) open, high, low, close prices and volume\n",
      "Symbol: AAPL\n",
      "Last Refreshed: 2025-09-29 19:55:00\n",
      "Interval: 5min\n",
      "\n",
      "Latest Price Data (2025-09-29 19:55:00):\n",
      "  Open: $254.0160\n",
      "  High: $254.2500\n",
      "  Low: $253.9000\n",
      "  Close: $253.9000\n",
      "  Volume: 10463\n",
      "\n",
      "==================================================\n",
      "STOCK: NVDA\n",
      "==================================================\n",
      "Information: Intraday (5min) open, high, low, close prices and volume\n",
      "Symbol: NVDA\n",
      "Last Refreshed: 2025-09-29 19:55:00\n",
      "Interval: 5min\n",
      "\n",
      "Latest Price Data (2025-09-29 19:55:00):\n",
      "  Open: $181.0400\n",
      "  High: $181.1200\n",
      "  Low: $180.9600\n",
      "  Close: $181.0600\n",
      "  Volume: 58880\n"
     ]
    }
   ],
   "source": [
    "# Display data for each stock\n",
    "for symbol, data in stock_data.items():\n",
    "    print(f\"\\n{'='*50}\")\n",
    "    print(f\"STOCK: {symbol}\")\n",
    "    print(f\"{'='*50}\")\n",
    "    \n",
    "    if 'Error Message' in data:\n",
    "        print(f\"❌ Error: {data['Error Message']}\")\n",
    "    elif 'Note' in data:\n",
    "        print(f\"⚠️  Note: {data['Note']}\")\n",
    "    else:\n",
    "        # Display metadata\n",
    "        if 'Meta Data' in data:\n",
    "            meta = data['Meta Data']\n",
    "            print(f\"Information: {meta.get('1. Information', 'N/A')}\")\n",
    "            print(f\"Symbol: {meta.get('2. Symbol', 'N/A')}\")\n",
    "            print(f\"Last Refreshed: {meta.get('3. Last Refreshed', 'N/A')}\")\n",
    "            print(f\"Interval: {meta.get('4. Interval', 'N/A')}\")\n",
    "        \n",
    "        # Display latest price data\n",
    "        if 'Time Series (5min)' in data:\n",
    "            time_series = data['Time Series (5min)']\n",
    "            latest_time = list(time_series.keys())[0]\n",
    "            latest_data = time_series[latest_time]\n",
    "            print(f\"\\nLatest Price Data ({latest_time}):\")\n",
    "            print(f\"  Open: ${latest_data['1. open']}\")\n",
    "            print(f\"  High: ${latest_data['2. high']}\")\n",
    "            print(f\"  Low: ${latest_data['3. low']}\")\n",
    "            print(f\"  Close: ${latest_data['4. close']}\")\n",
    "            print(f\"  Volume: {latest_data['5. volume']}\")"
   ]
  }
 ],
 "metadata": {
  "kernelspec": {
   "display_name": "Python 3",
   "language": "python",
   "name": "python3"
  },
  "language_info": {
   "codemirror_mode": {
    "name": "ipython",
    "version": 3
   },
   "file_extension": ".py",
   "mimetype": "text/x-python",
   "name": "python",
   "nbconvert_exporter": "python",
   "pygments_lexer": "ipython3",
   "version": "3.10.0"
  }
 },
 "nbformat": 4,
 "nbformat_minor": 5
}
